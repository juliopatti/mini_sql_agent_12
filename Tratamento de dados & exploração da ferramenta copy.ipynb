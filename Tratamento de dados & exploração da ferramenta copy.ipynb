{
 "cells": [
  {
   "cell_type": "markdown",
   "metadata": {},
   "source": [
    "- Edições Julio Patti em **<span style=\"color:red;\">VERMELHO</span>**\n",
    "- Traduzido pelo **Copilot**\n",
    "# Industrial Safety and Health Analytics Database\n",
    "\n",
    "## Conteúdo\n",
    "O banco de dados basicamente contém registros de acidentes de 12 plantas diferentes em 03 países diferentes, onde cada linha nos dados é uma ocorrência de um acidente.\n",
    "\n",
    "## Descrição das Colunas\n",
    "- **Data**: informação de data/hora ou data específica\n",
    "- **Countries**: em qual país o acidente ocorreu (anonimizado)\n",
    "- **Local**: a cidade onde a planta de fabricação está localizada (anonimizado)\n",
    "- **Industry sector**: a qual setor a planta pertence\n",
    "- **Accident level**: de I a VI, registra quão grave foi o acidente (I significa não severo, enquanto VI significa muito severo)**<span style=\"color:red;\"> (Só encontrado de I a V)</span>**\n",
    "- **Potential Accident Level**: Dependendo do Nível de Acidente, o banco de dados também registra quão grave o acidente poderia ter sido (devido a outros fatores envolvidos no acidente)**<span style=\"color:red;\"> (Só encontrado 1 caso VI que foi considerado V posteriormente)</span>**\n",
    "- ~~**Genre**: se a pessoa é do sexo masculino ou feminino~~ **<span style=\"color:red;\">Excluída</span>**\n",
    "- ~~**Employee or Third Party**: se a pessoa ferida é um funcionário ou um terceiro~~ **<span style=\"color:red;\">Excluída</span>**\n",
    "- **Critical Risk**: alguma descrição do risco envolvido no acidente\n",
    "- **Description**: Descrição detalhada de como o acidente aconteceu.\n",
    "\n",
    "FONTE: [kaggle](https://www.kaggle.com/datasets/ihmstefanini/industrial-safety-and-health-analytics-database?resource=download)"
   ]
  },
  {
   "cell_type": "code",
   "execution_count": 1,
   "metadata": {
    "ExecuteTime": {
     "end_time": "2024-12-06T22:01:26.111024Z",
     "start_time": "2024-12-06T22:01:25.601977Z"
    }
   },
   "outputs": [
    {
     "name": "stdout",
     "output_type": "stream",
     "text": [
      "Shape: (415, 8)\n"
     ]
    },
    {
     "data": {
      "text/html": [
       "<div>\n",
       "<style scoped>\n",
       "    .dataframe tbody tr th:only-of-type {\n",
       "        vertical-align: middle;\n",
       "    }\n",
       "\n",
       "    .dataframe tbody tr th {\n",
       "        vertical-align: top;\n",
       "    }\n",
       "\n",
       "    .dataframe thead th {\n",
       "        text-align: right;\n",
       "    }\n",
       "</style>\n",
       "<table border=\"1\" class=\"dataframe\">\n",
       "  <thead>\n",
       "    <tr style=\"text-align: right;\">\n",
       "      <th></th>\n",
       "      <th>Data</th>\n",
       "      <th>Countries</th>\n",
       "      <th>Local</th>\n",
       "      <th>Industry Sector</th>\n",
       "      <th>Accident Level</th>\n",
       "      <th>Potential Accident Level</th>\n",
       "      <th>Critical Risk</th>\n",
       "      <th>Description</th>\n",
       "    </tr>\n",
       "  </thead>\n",
       "  <tbody>\n",
       "    <tr>\n",
       "      <th>0</th>\n",
       "      <td>2016-01-01 00:00:00</td>\n",
       "      <td>Country_01</td>\n",
       "      <td>Local_01</td>\n",
       "      <td>Mining</td>\n",
       "      <td>I</td>\n",
       "      <td>IV</td>\n",
       "      <td>Pressed</td>\n",
       "      <td>While removing the drill rod of the Jumbo 08 f...</td>\n",
       "    </tr>\n",
       "    <tr>\n",
       "      <th>1</th>\n",
       "      <td>2016-01-02 00:00:00</td>\n",
       "      <td>Country_02</td>\n",
       "      <td>Local_02</td>\n",
       "      <td>Mining</td>\n",
       "      <td>I</td>\n",
       "      <td>IV</td>\n",
       "      <td>Pressurized Systems</td>\n",
       "      <td>During the activation of a sodium sulphide pum...</td>\n",
       "    </tr>\n",
       "    <tr>\n",
       "      <th>2</th>\n",
       "      <td>2016-01-06 00:00:00</td>\n",
       "      <td>Country_01</td>\n",
       "      <td>Local_03</td>\n",
       "      <td>Mining</td>\n",
       "      <td>I</td>\n",
       "      <td>III</td>\n",
       "      <td>Manual Tools</td>\n",
       "      <td>In the sub-station MILPO located at level +170...</td>\n",
       "    </tr>\n",
       "    <tr>\n",
       "      <th>3</th>\n",
       "      <td>2016-01-08 00:00:00</td>\n",
       "      <td>Country_01</td>\n",
       "      <td>Local_04</td>\n",
       "      <td>Mining</td>\n",
       "      <td>I</td>\n",
       "      <td>I</td>\n",
       "      <td>Others</td>\n",
       "      <td>Being 9:45 am. approximately in the Nv. 1880 C...</td>\n",
       "    </tr>\n",
       "    <tr>\n",
       "      <th>4</th>\n",
       "      <td>2016-01-10 00:00:00</td>\n",
       "      <td>Country_01</td>\n",
       "      <td>Local_04</td>\n",
       "      <td>Mining</td>\n",
       "      <td>IV</td>\n",
       "      <td>IV</td>\n",
       "      <td>Others</td>\n",
       "      <td>Approximately at 11:45 a.m. in circumstances t...</td>\n",
       "    </tr>\n",
       "  </tbody>\n",
       "</table>\n",
       "</div>"
      ],
      "text/plain": [
       "                  Data   Countries     Local Industry Sector Accident Level  \\\n",
       "0  2016-01-01 00:00:00  Country_01  Local_01          Mining              I   \n",
       "1  2016-01-02 00:00:00  Country_02  Local_02          Mining              I   \n",
       "2  2016-01-06 00:00:00  Country_01  Local_03          Mining              I   \n",
       "3  2016-01-08 00:00:00  Country_01  Local_04          Mining              I   \n",
       "4  2016-01-10 00:00:00  Country_01  Local_04          Mining             IV   \n",
       "\n",
       "  Potential Accident Level        Critical Risk  \\\n",
       "0                       IV              Pressed   \n",
       "1                       IV  Pressurized Systems   \n",
       "2                      III         Manual Tools   \n",
       "3                        I               Others   \n",
       "4                       IV               Others   \n",
       "\n",
       "                                         Description  \n",
       "0  While removing the drill rod of the Jumbo 08 f...  \n",
       "1  During the activation of a sodium sulphide pum...  \n",
       "2  In the sub-station MILPO located at level +170...  \n",
       "3  Being 9:45 am. approximately in the Nv. 1880 C...  \n",
       "4  Approximately at 11:45 a.m. in circumstances t...  "
      ]
     },
     "execution_count": 1,
     "metadata": {},
     "output_type": "execute_result"
    }
   ],
   "source": [
    "import pandas as pd\n",
    "import glob\n",
    "from roman import fromRoman\n",
    "import numpy as np\n",
    "import sqlite3\n",
    "\n",
    "files = glob.glob('data/IHMStefanini_industrial_safety_and_health_database_*.csv')\n",
    "df = pd.read_csv(files[0]).drop(columns=['Unnamed: 0', \n",
    "                                         'Genre', \n",
    "                                         'Employee or Third Party']).drop_duplicates().reset_index(drop=True)\n",
    "print(f'Shape: {df.shape}')\n",
    "df.head()"
   ]
  },
  {
   "cell_type": "markdown",
   "metadata": {},
   "source": [
    "# Distribuições"
   ]
  },
  {
   "cell_type": "code",
   "execution_count": 2,
   "metadata": {
    "ExecuteTime": {
     "end_time": "2024-12-06T22:01:27.396551Z",
     "start_time": "2024-12-06T22:01:27.384093Z"
    }
   },
   "outputs": [
    {
     "name": "stdout",
     "output_type": "stream",
     "text": [
      "\n",
      "------------------------------------------------------------------------------------------------------------------------\n",
      "Countries\n",
      "Country_01    246\n",
      "Country_02    128\n",
      "Country_03     41\n",
      "Name: count, dtype: int64\n",
      "\n",
      "------------------------------------------------------------------------------------------------------------------------\n",
      "Local\n",
      "\n",
      "[('Local_03', 88), ('Local_05', 59), ('Local_01', 55), ('Local_04', 55), ('Local_06', 46), ('Local_10', 41), ('Local_08', 27), ('Local_02', 23), ('Local_07', 13), ('Local_12', 4), ('Local_09', 2), ('Local_11', 2)]\n",
      "\n",
      "------------------------------------------------------------------------------------------------------------------------\n",
      "Industry Sector\n",
      "Mining    234\n",
      "Metals    134\n",
      "Others     47\n",
      "Name: count, dtype: int64\n",
      "\n",
      "------------------------------------------------------------------------------------------------------------------------\n",
      "Accident Level\n",
      "I      306\n",
      "II      40\n",
      "III     31\n",
      "IV      30\n",
      "V        8\n",
      "Name: count, dtype: int64\n",
      "\n",
      "------------------------------------------------------------------------------------------------------------------------\n",
      "Potential Accident Level\n",
      "IV     139\n",
      "III    106\n",
      "II      95\n",
      "I       45\n",
      "V       29\n",
      "VI       1\n",
      "Name: count, dtype: int64\n",
      "\n",
      "------------------------------------------------------------------------------------------------------------------------\n",
      "Critical Risk\n",
      "\n",
      "[('Others', 226), ('Pressed', 24), ('Manual Tools', 20), ('Chemical substances', 17), ('Cut', 14), ('Venomous Animals', 13), ('Projection', 13), ('Bees', 10), ('Fall', 9), ('Vehicles and Mobile Equipment', 8), ('Fall prevention (same level)', 7), ('remains of choco', 7), ('Pressurized Systems', 7), ('Fall prevention', 6), ('Suspended Loads', 6), ('Blocking and isolation of energies', 3), ('Pressurized Systems / Chemical Substances', 3), ('Power lock', 3), ('Liquid Metal', 3), ('Machine Protection', 2), ('Electrical Shock', 2), ('Poll', 1), ('Individual protection equipment', 1), ('Projection/Manual Tools', 1), ('Burn', 1), ('Electrical installation', 1), ('Projection/Choco', 1), ('Projection/Burning', 1), ('Plates', 1), ('Confined space', 1), ('Traffic', 1), ('\\r\\nNot applicable', 1), ('Projection of fragments', 1)]\n"
     ]
    }
   ],
   "source": [
    "for col in df.columns:\n",
    "    if col not in ['Data', 'Description']:\n",
    "        vc = df[col].value_counts(dropna=False)\n",
    "        if len(vc) > 10:\n",
    "            vc = f'{col}\\n\\n'+ str([(index, int(count)) for index, count in zip(vc.index, vc.values)])\n",
    "        print(f\"\\n{'-'*120}\\n{vc}\")"
   ]
  },
  {
   "cell_type": "markdown",
   "metadata": {},
   "source": [
    "# Investigação de conflitos\n",
    "- Descrições duplicadas com outros campos distintos\n",
    "    - Alguns casos não poderiam ter, por exemplo, uma mesma descrição e Nivel de acidente diferente.\n",
    "    - Casos em que existe risco critico diferentes Other vs Não Other será mantido o Não Other"
   ]
  },
  {
   "cell_type": "code",
   "execution_count": 3,
   "metadata": {
    "ExecuteTime": {
     "end_time": "2024-12-06T22:01:28.706220Z",
     "start_time": "2024-12-06T22:01:28.688749Z"
    }
   },
   "outputs": [
    {
     "name": "stdout",
     "output_type": "stream",
     "text": [
      "8 casos envolvidos:\n"
     ]
    },
    {
     "data": {
      "text/html": [
       "<div>\n",
       "<style scoped>\n",
       "    .dataframe tbody tr th:only-of-type {\n",
       "        vertical-align: middle;\n",
       "    }\n",
       "\n",
       "    .dataframe tbody tr th {\n",
       "        vertical-align: top;\n",
       "    }\n",
       "\n",
       "    .dataframe thead th {\n",
       "        text-align: right;\n",
       "    }\n",
       "</style>\n",
       "<table border=\"1\" class=\"dataframe\">\n",
       "  <thead>\n",
       "    <tr style=\"text-align: right;\">\n",
       "      <th></th>\n",
       "      <th>Data</th>\n",
       "      <th>Countries</th>\n",
       "      <th>Local</th>\n",
       "      <th>Industry Sector</th>\n",
       "      <th>Accident Level</th>\n",
       "      <th>Potential Accident Level</th>\n",
       "      <th>Critical Risk</th>\n",
       "      <th>Description</th>\n",
       "    </tr>\n",
       "  </thead>\n",
       "  <tbody>\n",
       "    <tr>\n",
       "      <th>164</th>\n",
       "      <td>2016-07-07 00:00:00</td>\n",
       "      <td>Country_01</td>\n",
       "      <td>Local_03</td>\n",
       "      <td>Mining</td>\n",
       "      <td>IV</td>\n",
       "      <td>V</td>\n",
       "      <td>Others</td>\n",
       "      <td>At moments when the MAPERU truck of plate F1T ...</td>\n",
       "    </tr>\n",
       "    <tr>\n",
       "      <th>165</th>\n",
       "      <td>2016-07-07 00:00:00</td>\n",
       "      <td>Country_01</td>\n",
       "      <td>Local_03</td>\n",
       "      <td>Mining</td>\n",
       "      <td>I</td>\n",
       "      <td>IV</td>\n",
       "      <td>Others</td>\n",
       "      <td>At moments when the MAPERU truck of plate F1T ...</td>\n",
       "    </tr>\n",
       "    <tr>\n",
       "      <th>128</th>\n",
       "      <td>2016-05-26 00:00:00</td>\n",
       "      <td>Country_03</td>\n",
       "      <td>Local_10</td>\n",
       "      <td>Others</td>\n",
       "      <td>I</td>\n",
       "      <td>I</td>\n",
       "      <td>Bees</td>\n",
       "      <td>In the geological reconnaissance activity, in ...</td>\n",
       "    </tr>\n",
       "    <tr>\n",
       "      <th>129</th>\n",
       "      <td>2016-05-26 00:00:00</td>\n",
       "      <td>Country_03</td>\n",
       "      <td>Local_10</td>\n",
       "      <td>Others</td>\n",
       "      <td>I</td>\n",
       "      <td>I</td>\n",
       "      <td>Others</td>\n",
       "      <td>In the geological reconnaissance activity, in ...</td>\n",
       "    </tr>\n",
       "    <tr>\n",
       "      <th>141</th>\n",
       "      <td>2016-06-08 00:00:00</td>\n",
       "      <td>Country_03</td>\n",
       "      <td>Local_10</td>\n",
       "      <td>Others</td>\n",
       "      <td>I</td>\n",
       "      <td>I</td>\n",
       "      <td>Bees</td>\n",
       "      <td>Project of Vazante that carried out sediment c...</td>\n",
       "    </tr>\n",
       "    <tr>\n",
       "      <th>142</th>\n",
       "      <td>2016-06-08 00:00:00</td>\n",
       "      <td>Country_03</td>\n",
       "      <td>Local_10</td>\n",
       "      <td>Others</td>\n",
       "      <td>I</td>\n",
       "      <td>I</td>\n",
       "      <td>Others</td>\n",
       "      <td>Project of Vazante that carried out sediment c...</td>\n",
       "    </tr>\n",
       "    <tr>\n",
       "      <th>379</th>\n",
       "      <td>2017-05-06 00:00:00</td>\n",
       "      <td>Country_02</td>\n",
       "      <td>Local_07</td>\n",
       "      <td>Mining</td>\n",
       "      <td>IV</td>\n",
       "      <td>V</td>\n",
       "      <td>Projection</td>\n",
       "      <td>The employees Márcio and Sérgio performed the ...</td>\n",
       "    </tr>\n",
       "    <tr>\n",
       "      <th>380</th>\n",
       "      <td>2017-05-06 00:00:00</td>\n",
       "      <td>Country_02</td>\n",
       "      <td>Local_07</td>\n",
       "      <td>Mining</td>\n",
       "      <td>II</td>\n",
       "      <td>V</td>\n",
       "      <td>Projection</td>\n",
       "      <td>The employees Márcio and Sérgio performed the ...</td>\n",
       "    </tr>\n",
       "  </tbody>\n",
       "</table>\n",
       "</div>"
      ],
      "text/plain": [
       "                    Data   Countries     Local Industry Sector Accident Level  \\\n",
       "164  2016-07-07 00:00:00  Country_01  Local_03          Mining             IV   \n",
       "165  2016-07-07 00:00:00  Country_01  Local_03          Mining              I   \n",
       "128  2016-05-26 00:00:00  Country_03  Local_10          Others              I   \n",
       "129  2016-05-26 00:00:00  Country_03  Local_10          Others              I   \n",
       "141  2016-06-08 00:00:00  Country_03  Local_10          Others              I   \n",
       "142  2016-06-08 00:00:00  Country_03  Local_10          Others              I   \n",
       "379  2017-05-06 00:00:00  Country_02  Local_07          Mining             IV   \n",
       "380  2017-05-06 00:00:00  Country_02  Local_07          Mining             II   \n",
       "\n",
       "    Potential Accident Level Critical Risk  \\\n",
       "164                        V        Others   \n",
       "165                       IV        Others   \n",
       "128                        I          Bees   \n",
       "129                        I        Others   \n",
       "141                        I          Bees   \n",
       "142                        I        Others   \n",
       "379                        V    Projection   \n",
       "380                        V    Projection   \n",
       "\n",
       "                                           Description  \n",
       "164  At moments when the MAPERU truck of plate F1T ...  \n",
       "165  At moments when the MAPERU truck of plate F1T ...  \n",
       "128  In the geological reconnaissance activity, in ...  \n",
       "129  In the geological reconnaissance activity, in ...  \n",
       "141  Project of Vazante that carried out sediment c...  \n",
       "142  Project of Vazante that carried out sediment c...  \n",
       "379  The employees Márcio and Sérgio performed the ...  \n",
       "380  The employees Márcio and Sérgio performed the ...  "
      ]
     },
     "execution_count": 3,
     "metadata": {},
     "output_type": "execute_result"
    }
   ],
   "source": [
    "cond_dup = df['Description'].duplicated(keep=False)\n",
    "print(f'{cond_dup.sum()} casos envolvidos:')\n",
    "df[cond_dup].sort_values(['Description'])"
   ]
  },
  {
   "cell_type": "markdown",
   "metadata": {},
   "source": [
    "# Tratamento Particular\n",
    "- Drop conflitos e priorização de Riscos diferentes de Others\n",
    "- Somente 1 acidente potencial nivel VI -> Será considerado nível V"
   ]
  },
  {
   "cell_type": "code",
   "execution_count": 4,
   "metadata": {
    "ExecuteTime": {
     "end_time": "2024-12-06T22:01:29.882852Z",
     "start_time": "2024-12-06T22:01:29.856335Z"
    }
   },
   "outputs": [
    {
     "data": {
      "text/plain": [
       "(409, 8)"
      ]
     },
     "execution_count": 4,
     "metadata": {},
     "output_type": "execute_result"
    }
   ],
   "source": [
    "drop_desc = []\n",
    "for desc in df[cond_dup]['Description'].unique().tolist():\n",
    "    cond_desc = df['Description']==desc\n",
    "    df_desc = df[cond_desc]\n",
    "    if len(df_desc['Accident Level'].unique())>1:\n",
    "        drop_desc.append(desc)\n",
    "    riscos = df_desc['Critical Risk'].unique().tolist()\n",
    "    if len(riscos)==2:\n",
    "        if 'Others' in df_desc['Critical Risk'].unique():\n",
    "            riscos.remove('Others')\n",
    "            cond_other = df_desc['Critical Risk']=='Others'\n",
    "            df.loc[cond_other & cond_desc, 'Critical Risk'] = riscos[0]\n",
    "\n",
    "cond_drop_conflict = df['Description'].isin(drop_desc)\n",
    "df = df[~cond_drop_conflict].drop_duplicates().reset_index(drop=True)\n",
    "df.shape       "
   ]
  },
  {
   "cell_type": "code",
   "execution_count": 5,
   "metadata": {
    "ExecuteTime": {
     "end_time": "2024-12-06T22:01:30.538410Z",
     "start_time": "2024-12-06T22:01:30.528537Z"
    }
   },
   "outputs": [
    {
     "data": {
      "text/plain": [
       "Potential Accident Level\n",
       "IV     138\n",
       "III    106\n",
       "II      95\n",
       "I       43\n",
       "V       27\n",
       "Name: count, dtype: int64"
      ]
     },
     "execution_count": 5,
     "metadata": {},
     "output_type": "execute_result"
    }
   ],
   "source": [
    "cond_level_6 = df['Potential Accident Level']=='VI'\n",
    "df.loc[cond_level_6, 'Potential Accident Level'] = 'V'\n",
    "df['Potential Accident Level'].value_counts()"
   ]
  },
  {
   "cell_type": "code",
   "execution_count": 6,
   "metadata": {
    "ExecuteTime": {
     "end_time": "2024-12-06T22:01:31.175690Z",
     "start_time": "2024-12-06T22:01:31.168268Z"
    }
   },
   "outputs": [
    {
     "data": {
      "text/plain": [
       "0"
      ]
     },
     "execution_count": 6,
     "metadata": {},
     "output_type": "execute_result"
    }
   ],
   "source": [
    "int(df['Description'].duplicated().sum())"
   ]
  },
  {
   "cell_type": "markdown",
   "metadata": {},
   "source": [
    "# Tratamento geral\n",
    "- Mudança de nomes de colunas\n",
    "- Passagem de valores de strings para lowercase (exeto a descrição do evento)"
   ]
  },
  {
   "cell_type": "code",
   "execution_count": 7,
   "metadata": {
    "ExecuteTime": {
     "end_time": "2024-12-06T22:01:32.584991Z",
     "start_time": "2024-12-06T22:01:32.536721Z"
    }
   },
   "outputs": [
    {
     "data": {
      "text/html": [
       "<div>\n",
       "<style scoped>\n",
       "    .dataframe tbody tr th:only-of-type {\n",
       "        vertical-align: middle;\n",
       "    }\n",
       "\n",
       "    .dataframe tbody tr th {\n",
       "        vertical-align: top;\n",
       "    }\n",
       "\n",
       "    .dataframe thead th {\n",
       "        text-align: right;\n",
       "    }\n",
       "</style>\n",
       "<table border=\"1\" class=\"dataframe\">\n",
       "  <thead>\n",
       "    <tr style=\"text-align: right;\">\n",
       "      <th></th>\n",
       "      <th>DATE</th>\n",
       "      <th>COUNTRY</th>\n",
       "      <th>PLACE</th>\n",
       "      <th>SECTOR</th>\n",
       "      <th>ACCIDENT_LEVEL</th>\n",
       "      <th>DANGEROUSNESS</th>\n",
       "      <th>CRITICAL_RISK</th>\n",
       "      <th>DESCRIPTION</th>\n",
       "    </tr>\n",
       "  </thead>\n",
       "  <tbody>\n",
       "    <tr>\n",
       "      <th>0</th>\n",
       "      <td>2016-01-01</td>\n",
       "      <td>country_01</td>\n",
       "      <td>local_01</td>\n",
       "      <td>mining</td>\n",
       "      <td>1</td>\n",
       "      <td>4</td>\n",
       "      <td>pressed</td>\n",
       "      <td>While removing the drill rod of the Jumbo 08 f...</td>\n",
       "    </tr>\n",
       "    <tr>\n",
       "      <th>1</th>\n",
       "      <td>2016-01-02</td>\n",
       "      <td>country_02</td>\n",
       "      <td>local_02</td>\n",
       "      <td>mining</td>\n",
       "      <td>1</td>\n",
       "      <td>4</td>\n",
       "      <td>pressurized systems</td>\n",
       "      <td>During the activation of a sodium sulphide pum...</td>\n",
       "    </tr>\n",
       "    <tr>\n",
       "      <th>2</th>\n",
       "      <td>2016-01-06</td>\n",
       "      <td>country_01</td>\n",
       "      <td>local_03</td>\n",
       "      <td>mining</td>\n",
       "      <td>1</td>\n",
       "      <td>3</td>\n",
       "      <td>manual tools</td>\n",
       "      <td>In the sub-station MILPO located at level +170...</td>\n",
       "    </tr>\n",
       "    <tr>\n",
       "      <th>3</th>\n",
       "      <td>2016-01-08</td>\n",
       "      <td>country_01</td>\n",
       "      <td>local_04</td>\n",
       "      <td>mining</td>\n",
       "      <td>1</td>\n",
       "      <td>1</td>\n",
       "      <td>others</td>\n",
       "      <td>Being 9:45 am. approximately in the Nv. 1880 C...</td>\n",
       "    </tr>\n",
       "    <tr>\n",
       "      <th>4</th>\n",
       "      <td>2016-01-10</td>\n",
       "      <td>country_01</td>\n",
       "      <td>local_04</td>\n",
       "      <td>mining</td>\n",
       "      <td>4</td>\n",
       "      <td>4</td>\n",
       "      <td>others</td>\n",
       "      <td>Approximately at 11:45 a.m. in circumstances t...</td>\n",
       "    </tr>\n",
       "    <tr>\n",
       "      <th>...</th>\n",
       "      <td>...</td>\n",
       "      <td>...</td>\n",
       "      <td>...</td>\n",
       "      <td>...</td>\n",
       "      <td>...</td>\n",
       "      <td>...</td>\n",
       "      <td>...</td>\n",
       "      <td>...</td>\n",
       "    </tr>\n",
       "    <tr>\n",
       "      <th>404</th>\n",
       "      <td>2017-07-04</td>\n",
       "      <td>country_01</td>\n",
       "      <td>local_04</td>\n",
       "      <td>mining</td>\n",
       "      <td>1</td>\n",
       "      <td>3</td>\n",
       "      <td>others</td>\n",
       "      <td>Being approximately 5:00 a.m. approximately, w...</td>\n",
       "    </tr>\n",
       "    <tr>\n",
       "      <th>405</th>\n",
       "      <td>2017-07-04</td>\n",
       "      <td>country_01</td>\n",
       "      <td>local_03</td>\n",
       "      <td>mining</td>\n",
       "      <td>1</td>\n",
       "      <td>2</td>\n",
       "      <td>others</td>\n",
       "      <td>The collaborator moved from the infrastructure...</td>\n",
       "    </tr>\n",
       "    <tr>\n",
       "      <th>406</th>\n",
       "      <td>2017-07-05</td>\n",
       "      <td>country_02</td>\n",
       "      <td>local_09</td>\n",
       "      <td>metals</td>\n",
       "      <td>1</td>\n",
       "      <td>2</td>\n",
       "      <td>venomous animals</td>\n",
       "      <td>During the environmental monitoring activity i...</td>\n",
       "    </tr>\n",
       "    <tr>\n",
       "      <th>407</th>\n",
       "      <td>2017-07-06</td>\n",
       "      <td>country_02</td>\n",
       "      <td>local_05</td>\n",
       "      <td>metals</td>\n",
       "      <td>1</td>\n",
       "      <td>2</td>\n",
       "      <td>cut</td>\n",
       "      <td>The Employee performed the activity of strippi...</td>\n",
       "    </tr>\n",
       "    <tr>\n",
       "      <th>408</th>\n",
       "      <td>2017-07-09</td>\n",
       "      <td>country_01</td>\n",
       "      <td>local_04</td>\n",
       "      <td>mining</td>\n",
       "      <td>1</td>\n",
       "      <td>2</td>\n",
       "      <td>fall prevention (same level)</td>\n",
       "      <td>At 10:00 a.m., when the assistant cleaned the ...</td>\n",
       "    </tr>\n",
       "  </tbody>\n",
       "</table>\n",
       "<p>409 rows × 8 columns</p>\n",
       "</div>"
      ],
      "text/plain": [
       "          DATE     COUNTRY     PLACE  SECTOR  ACCIDENT_LEVEL  DANGEROUSNESS  \\\n",
       "0   2016-01-01  country_01  local_01  mining               1              4   \n",
       "1   2016-01-02  country_02  local_02  mining               1              4   \n",
       "2   2016-01-06  country_01  local_03  mining               1              3   \n",
       "3   2016-01-08  country_01  local_04  mining               1              1   \n",
       "4   2016-01-10  country_01  local_04  mining               4              4   \n",
       "..         ...         ...       ...     ...             ...            ...   \n",
       "404 2017-07-04  country_01  local_04  mining               1              3   \n",
       "405 2017-07-04  country_01  local_03  mining               1              2   \n",
       "406 2017-07-05  country_02  local_09  metals               1              2   \n",
       "407 2017-07-06  country_02  local_05  metals               1              2   \n",
       "408 2017-07-09  country_01  local_04  mining               1              2   \n",
       "\n",
       "                    CRITICAL_RISK  \\\n",
       "0                         pressed   \n",
       "1             pressurized systems   \n",
       "2                    manual tools   \n",
       "3                          others   \n",
       "4                          others   \n",
       "..                            ...   \n",
       "404                        others   \n",
       "405                        others   \n",
       "406              venomous animals   \n",
       "407                           cut   \n",
       "408  fall prevention (same level)   \n",
       "\n",
       "                                           DESCRIPTION  \n",
       "0    While removing the drill rod of the Jumbo 08 f...  \n",
       "1    During the activation of a sodium sulphide pum...  \n",
       "2    In the sub-station MILPO located at level +170...  \n",
       "3    Being 9:45 am. approximately in the Nv. 1880 C...  \n",
       "4    Approximately at 11:45 a.m. in circumstances t...  \n",
       "..                                                 ...  \n",
       "404  Being approximately 5:00 a.m. approximately, w...  \n",
       "405  The collaborator moved from the infrastructure...  \n",
       "406  During the environmental monitoring activity i...  \n",
       "407  The Employee performed the activity of strippi...  \n",
       "408  At 10:00 a.m., when the assistant cleaned the ...  \n",
       "\n",
       "[409 rows x 8 columns]"
      ]
     },
     "execution_count": 7,
     "metadata": {},
     "output_type": "execute_result"
    }
   ],
   "source": [
    "df.rename(columns={'Data':'DATE', \n",
    "                   'Countries':'COUNTRY', \n",
    "                   'Local': 'PLACE', \n",
    "                   'Industry Sector':'SECTOR',\n",
    "                   'Accident Level': 'ACCIDENT_LEVEL',\n",
    "                   'Potential Accident Level': 'DANGEROUSNESS',\n",
    "                   'Critical Risk': 'CRITICAL_RISK',\n",
    "                   'Description': 'DESCRIPTION'\n",
    "                  }, inplace=True)\n",
    "\n",
    "df['DATE'] = pd.to_datetime(df['DATE'])\n",
    "df['ACCIDENT_LEVEL'] = df['ACCIDENT_LEVEL'].apply(fromRoman)\n",
    "df['DANGEROUSNESS'] = df['DANGEROUSNESS'].apply(fromRoman)\n",
    "for col in ['COUNTRY', 'PLACE', 'SECTOR', 'CRITICAL_RISK']:\n",
    "    df[col] = df[col].str.lower()\n",
    "\n",
    "df"
   ]
  },
  {
   "cell_type": "markdown",
   "metadata": {},
   "source": [
    "# Industrial Safety and Health Analytics Database\n",
    "\n",
    "## Adaptado\n",
    "\n",
    "## Descrição das Colunas\n",
    "- **DATE**: informação de data/hora ou data específica\n",
    "- **COUNTRY**: em qual país o acidente ocorreu (anonimizado)\n",
    "- **PLACE**: a cidade onde a planta de fabricação está localizada (anonimizado)\n",
    "- **SECTOR**: a qual setor a planta pertence\n",
    "- **ACCIDENT_LEVEL**: de 1 a 5, registra quão grave foi o acidente (1 significa não severo, enquanto 5 significa muito severo)\n",
    "- **DANGEROUSNESS**: Dependendo do Nível de Acidente, o banco de dados também registra quão grave o acidente poderia ter sido (devido a outros fatores envolvidos no acidente)\n",
    "- **CRITICAL_RISK**: alguma descrição do risco envolvido no acidente/keyword\n",
    "- **DESCRIPTION**: Descrição detalhada de como o acidente aconteceu.\n",
    "\n",
    "FONTE: [kaggle](https://www.kaggle.com/datasets/ihmstefanini/industrial-safety-and-health-analytics-database?resource=download)\n"
   ]
  },
  {
   "cell_type": "markdown",
   "metadata": {},
   "source": [
    "# SQLite\n",
    "- criando uma coluna de ID"
   ]
  },
  {
   "cell_type": "code",
   "execution_count": 8,
   "metadata": {
    "ExecuteTime": {
     "end_time": "2024-12-06T22:01:34.786883Z",
     "start_time": "2024-12-06T22:01:34.769735Z"
    }
   },
   "outputs": [
    {
     "data": {
      "text/html": [
       "<div>\n",
       "<style scoped>\n",
       "    .dataframe tbody tr th:only-of-type {\n",
       "        vertical-align: middle;\n",
       "    }\n",
       "\n",
       "    .dataframe tbody tr th {\n",
       "        vertical-align: top;\n",
       "    }\n",
       "\n",
       "    .dataframe thead th {\n",
       "        text-align: right;\n",
       "    }\n",
       "</style>\n",
       "<table border=\"1\" class=\"dataframe\">\n",
       "  <thead>\n",
       "    <tr style=\"text-align: right;\">\n",
       "      <th></th>\n",
       "      <th>ID</th>\n",
       "      <th>DATE</th>\n",
       "      <th>COUNTRY</th>\n",
       "      <th>PLACE</th>\n",
       "      <th>SECTOR</th>\n",
       "      <th>ACCIDENT_LEVEL</th>\n",
       "      <th>DANGEROUSNESS</th>\n",
       "      <th>CRITICAL_RISK</th>\n",
       "      <th>DESCRIPTION</th>\n",
       "    </tr>\n",
       "  </thead>\n",
       "  <tbody>\n",
       "    <tr>\n",
       "      <th>0</th>\n",
       "      <td>1</td>\n",
       "      <td>2016-01-01</td>\n",
       "      <td>country_01</td>\n",
       "      <td>local_01</td>\n",
       "      <td>mining</td>\n",
       "      <td>1</td>\n",
       "      <td>4</td>\n",
       "      <td>pressed</td>\n",
       "      <td>While removing the drill rod of the Jumbo 08 f...</td>\n",
       "    </tr>\n",
       "  </tbody>\n",
       "</table>\n",
       "</div>"
      ],
      "text/plain": [
       "   ID       DATE     COUNTRY     PLACE  SECTOR  ACCIDENT_LEVEL  DANGEROUSNESS  \\\n",
       "0   1 2016-01-01  country_01  local_01  mining               1              4   \n",
       "\n",
       "  CRITICAL_RISK                                        DESCRIPTION  \n",
       "0       pressed  While removing the drill rod of the Jumbo 08 f...  "
      ]
     },
     "execution_count": 8,
     "metadata": {},
     "output_type": "execute_result"
    }
   ],
   "source": [
    "columns = df.columns.tolist()\n",
    "df.reset_index(inplace=True)\n",
    "df.columns = ['ID'] + columns\n",
    "df['ID'] += 1\n",
    "\n",
    "df.head(1)"
   ]
  },
  {
   "cell_type": "code",
   "execution_count": 9,
   "metadata": {
    "ExecuteTime": {
     "end_time": "2024-12-06T22:01:40.393315Z",
     "start_time": "2024-12-06T22:01:39.940750Z"
    }
   },
   "outputs": [
    {
     "data": {
      "text/plain": [
       "409"
      ]
     },
     "execution_count": 9,
     "metadata": {},
     "output_type": "execute_result"
    }
   ],
   "source": [
    "# Conexão com o banco de dados\n",
    "conn = sqlite3.connect('database.db')\n",
    "\n",
    "# Criação de Tabela\n",
    "conn.execute(\"\"\"\n",
    "CREATE TABLE IF NOT EXISTS events (\n",
    "    ID INTEGER PRIMARY KEY,\n",
    "    DATE DATETIME,\n",
    "    COUNTRY TEXT,\n",
    "    PLACE TEXT,\n",
    "    SECTOR TEXT,\n",
    "    ACCIDENT_LEVEL INTEGER,\n",
    "    DANGEROUSNESS INTEGER,\n",
    "    CRITICAL_RISK TEXT,\n",
    "    DESCRIPTION TEXT\n",
    ");\n",
    "\"\"\")\n",
    "\n",
    "# Inserção de dados na tabela\n",
    "df.to_sql('events', conn, if_exists='replace', index=False)"
   ]
  },
  {
   "cell_type": "code",
   "execution_count": 10,
   "metadata": {
    "ExecuteTime": {
     "end_time": "2024-12-06T22:01:58.262787Z",
     "start_time": "2024-12-06T22:01:58.237545Z"
    },
    "scrolled": false
   },
   "outputs": [
    {
     "name": "stdout",
     "output_type": "stream",
     "text": [
      "<class 'pandas.core.frame.DataFrame'>\n",
      "RangeIndex: 409 entries, 0 to 408\n",
      "Data columns (total 9 columns):\n",
      " #   Column          Non-Null Count  Dtype         \n",
      "---  ------          --------------  -----         \n",
      " 0   ID              409 non-null    int64         \n",
      " 1   DATE            409 non-null    datetime64[ns]\n",
      " 2   COUNTRY         409 non-null    object        \n",
      " 3   PLACE           409 non-null    object        \n",
      " 4   SECTOR          409 non-null    object        \n",
      " 5   ACCIDENT_LEVEL  409 non-null    int64         \n",
      " 6   DANGEROUSNESS   409 non-null    int64         \n",
      " 7   CRITICAL_RISK   409 non-null    object        \n",
      " 8   DESCRIPTION     409 non-null    object        \n",
      "dtypes: datetime64[ns](1), int64(3), object(5)\n",
      "memory usage: 28.9+ KB\n"
     ]
    }
   ],
   "source": [
    "# Teste de leitura\n",
    "query = \"SELECT * FROM events\"\n",
    "engine = sqlite3.Connection('database.db')\n",
    "\n",
    "df = pd.read_sql(query, \n",
    "                 engine, \n",
    "                 dtype={ 'ID': 'int64', \n",
    "                        'COUNTRY': 'str', \n",
    "                        'PLACE': 'str', \n",
    "                        'SECTOR': 'str', \n",
    "                        'ACCIDENT_LEVEL': 'int64',\n",
    "                        'DANGEROUSNESS': 'int64', \n",
    "                        'CRITICAL_RISK': 'str', \n",
    "                        'DESCRIPTION': 'str' },\n",
    "                 parse_dates=['DATE'])\n",
    "df.info()"
   ]
  },
  {
   "cell_type": "code",
   "execution_count": 11,
   "metadata": {
    "ExecuteTime": {
     "end_time": "2024-12-06T22:02:02.176184Z",
     "start_time": "2024-12-06T22:02:02.140823Z"
    }
   },
   "outputs": [
    {
     "data": {
      "text/html": [
       "<div>\n",
       "<style scoped>\n",
       "    .dataframe tbody tr th:only-of-type {\n",
       "        vertical-align: middle;\n",
       "    }\n",
       "\n",
       "    .dataframe tbody tr th {\n",
       "        vertical-align: top;\n",
       "    }\n",
       "\n",
       "    .dataframe thead th {\n",
       "        text-align: right;\n",
       "    }\n",
       "</style>\n",
       "<table border=\"1\" class=\"dataframe\">\n",
       "  <thead>\n",
       "    <tr style=\"text-align: right;\">\n",
       "      <th></th>\n",
       "      <th>ID</th>\n",
       "      <th>DATE</th>\n",
       "      <th>COUNTRY</th>\n",
       "      <th>PLACE</th>\n",
       "      <th>SECTOR</th>\n",
       "      <th>ACCIDENT_LEVEL</th>\n",
       "      <th>DANGEROUSNESS</th>\n",
       "      <th>CRITICAL_RISK</th>\n",
       "      <th>DESCRIPTION</th>\n",
       "    </tr>\n",
       "  </thead>\n",
       "  <tbody>\n",
       "    <tr>\n",
       "      <th>count</th>\n",
       "      <td>409.000000</td>\n",
       "      <td>409</td>\n",
       "      <td>409</td>\n",
       "      <td>409</td>\n",
       "      <td>409</td>\n",
       "      <td>409.000000</td>\n",
       "      <td>409.000000</td>\n",
       "      <td>409</td>\n",
       "      <td>409</td>\n",
       "    </tr>\n",
       "    <tr>\n",
       "      <th>unique</th>\n",
       "      <td>NaN</td>\n",
       "      <td>NaN</td>\n",
       "      <td>3</td>\n",
       "      <td>12</td>\n",
       "      <td>3</td>\n",
       "      <td>NaN</td>\n",
       "      <td>NaN</td>\n",
       "      <td>33</td>\n",
       "      <td>409</td>\n",
       "    </tr>\n",
       "    <tr>\n",
       "      <th>top</th>\n",
       "      <td>NaN</td>\n",
       "      <td>NaN</td>\n",
       "      <td>country_01</td>\n",
       "      <td>local_03</td>\n",
       "      <td>mining</td>\n",
       "      <td>NaN</td>\n",
       "      <td>NaN</td>\n",
       "      <td>others</td>\n",
       "      <td>While removing the drill rod of the Jumbo 08 f...</td>\n",
       "    </tr>\n",
       "    <tr>\n",
       "      <th>freq</th>\n",
       "      <td>NaN</td>\n",
       "      <td>NaN</td>\n",
       "      <td>244</td>\n",
       "      <td>86</td>\n",
       "      <td>230</td>\n",
       "      <td>NaN</td>\n",
       "      <td>NaN</td>\n",
       "      <td>222</td>\n",
       "      <td>1</td>\n",
       "    </tr>\n",
       "    <tr>\n",
       "      <th>mean</th>\n",
       "      <td>205.000000</td>\n",
       "      <td>2016-09-18 07:16:34.621026816</td>\n",
       "      <td>NaN</td>\n",
       "      <td>NaN</td>\n",
       "      <td>NaN</td>\n",
       "      <td>1.530562</td>\n",
       "      <td>3.026895</td>\n",
       "      <td>NaN</td>\n",
       "      <td>NaN</td>\n",
       "    </tr>\n",
       "    <tr>\n",
       "      <th>min</th>\n",
       "      <td>1.000000</td>\n",
       "      <td>2016-01-01 00:00:00</td>\n",
       "      <td>NaN</td>\n",
       "      <td>NaN</td>\n",
       "      <td>NaN</td>\n",
       "      <td>1.000000</td>\n",
       "      <td>1.000000</td>\n",
       "      <td>NaN</td>\n",
       "      <td>NaN</td>\n",
       "    </tr>\n",
       "    <tr>\n",
       "      <th>25%</th>\n",
       "      <td>103.000000</td>\n",
       "      <td>2016-04-30 00:00:00</td>\n",
       "      <td>NaN</td>\n",
       "      <td>NaN</td>\n",
       "      <td>NaN</td>\n",
       "      <td>1.000000</td>\n",
       "      <td>2.000000</td>\n",
       "      <td>NaN</td>\n",
       "      <td>NaN</td>\n",
       "    </tr>\n",
       "    <tr>\n",
       "      <th>50%</th>\n",
       "      <td>205.000000</td>\n",
       "      <td>2016-09-06 00:00:00</td>\n",
       "      <td>NaN</td>\n",
       "      <td>NaN</td>\n",
       "      <td>NaN</td>\n",
       "      <td>1.000000</td>\n",
       "      <td>3.000000</td>\n",
       "      <td>NaN</td>\n",
       "      <td>NaN</td>\n",
       "    </tr>\n",
       "    <tr>\n",
       "      <th>75%</th>\n",
       "      <td>307.000000</td>\n",
       "      <td>2017-02-05 00:00:00</td>\n",
       "      <td>NaN</td>\n",
       "      <td>NaN</td>\n",
       "      <td>NaN</td>\n",
       "      <td>2.000000</td>\n",
       "      <td>4.000000</td>\n",
       "      <td>NaN</td>\n",
       "      <td>NaN</td>\n",
       "    </tr>\n",
       "    <tr>\n",
       "      <th>max</th>\n",
       "      <td>409.000000</td>\n",
       "      <td>2017-07-09 00:00:00</td>\n",
       "      <td>NaN</td>\n",
       "      <td>NaN</td>\n",
       "      <td>NaN</td>\n",
       "      <td>5.000000</td>\n",
       "      <td>5.000000</td>\n",
       "      <td>NaN</td>\n",
       "      <td>NaN</td>\n",
       "    </tr>\n",
       "    <tr>\n",
       "      <th>std</th>\n",
       "      <td>118.212379</td>\n",
       "      <td>NaN</td>\n",
       "      <td>NaN</td>\n",
       "      <td>NaN</td>\n",
       "      <td>NaN</td>\n",
       "      <td>1.024059</td>\n",
       "      <td>1.120994</td>\n",
       "      <td>NaN</td>\n",
       "      <td>NaN</td>\n",
       "    </tr>\n",
       "  </tbody>\n",
       "</table>\n",
       "</div>"
      ],
      "text/plain": [
       "                ID                           DATE     COUNTRY     PLACE  \\\n",
       "count   409.000000                            409         409       409   \n",
       "unique         NaN                            NaN           3        12   \n",
       "top            NaN                            NaN  country_01  local_03   \n",
       "freq           NaN                            NaN         244        86   \n",
       "mean    205.000000  2016-09-18 07:16:34.621026816         NaN       NaN   \n",
       "min       1.000000            2016-01-01 00:00:00         NaN       NaN   \n",
       "25%     103.000000            2016-04-30 00:00:00         NaN       NaN   \n",
       "50%     205.000000            2016-09-06 00:00:00         NaN       NaN   \n",
       "75%     307.000000            2017-02-05 00:00:00         NaN       NaN   \n",
       "max     409.000000            2017-07-09 00:00:00         NaN       NaN   \n",
       "std     118.212379                            NaN         NaN       NaN   \n",
       "\n",
       "        SECTOR  ACCIDENT_LEVEL  DANGEROUSNESS CRITICAL_RISK  \\\n",
       "count      409      409.000000     409.000000           409   \n",
       "unique       3             NaN            NaN            33   \n",
       "top     mining             NaN            NaN        others   \n",
       "freq       230             NaN            NaN           222   \n",
       "mean       NaN        1.530562       3.026895           NaN   \n",
       "min        NaN        1.000000       1.000000           NaN   \n",
       "25%        NaN        1.000000       2.000000           NaN   \n",
       "50%        NaN        1.000000       3.000000           NaN   \n",
       "75%        NaN        2.000000       4.000000           NaN   \n",
       "max        NaN        5.000000       5.000000           NaN   \n",
       "std        NaN        1.024059       1.120994           NaN   \n",
       "\n",
       "                                              DESCRIPTION  \n",
       "count                                                 409  \n",
       "unique                                                409  \n",
       "top     While removing the drill rod of the Jumbo 08 f...  \n",
       "freq                                                    1  \n",
       "mean                                                  NaN  \n",
       "min                                                   NaN  \n",
       "25%                                                   NaN  \n",
       "50%                                                   NaN  \n",
       "75%                                                   NaN  \n",
       "max                                                   NaN  \n",
       "std                                                   NaN  "
      ]
     },
     "execution_count": 11,
     "metadata": {},
     "output_type": "execute_result"
    }
   ],
   "source": [
    "df.describe(include='all')"
   ]
  },
  {
   "cell_type": "code",
   "execution_count": 12,
   "metadata": {
    "ExecuteTime": {
     "end_time": "2024-12-06T22:02:03.729122Z",
     "start_time": "2024-12-06T22:02:03.715489Z"
    }
   },
   "outputs": [
    {
     "name": "stdout",
     "output_type": "stream",
     "text": [
      "\n",
      "------------------------------------------------------------------------------------------------------------------------\n",
      "COUNTRY\n",
      "country_01    244\n",
      "country_02    126\n",
      "country_03     39\n",
      "Name: count, dtype: int64\n",
      "\n",
      "------------------------------------------------------------------------------------------------------------------------\n",
      "PLACE\n",
      "\n",
      "[('local_03', 86), ('local_05', 59), ('local_01', 55), ('local_04', 55), ('local_06', 46), ('local_10', 39), ('local_08', 27), ('local_02', 23), ('local_07', 11), ('local_12', 4), ('local_09', 2), ('local_11', 2)]\n",
      "\n",
      "------------------------------------------------------------------------------------------------------------------------\n",
      "SECTOR\n",
      "mining    230\n",
      "metals    134\n",
      "others     45\n",
      "Name: count, dtype: int64\n",
      "\n",
      "------------------------------------------------------------------------------------------------------------------------\n",
      "ACCIDENT_LEVEL\n",
      "1    303\n",
      "2     39\n",
      "3     31\n",
      "4     28\n",
      "5      8\n",
      "Name: count, dtype: int64\n",
      "\n",
      "------------------------------------------------------------------------------------------------------------------------\n",
      "DANGEROUSNESS\n",
      "4    138\n",
      "3    106\n",
      "2     95\n",
      "1     43\n",
      "5     27\n",
      "Name: count, dtype: int64\n",
      "\n",
      "------------------------------------------------------------------------------------------------------------------------\n",
      "CRITICAL_RISK\n",
      "\n",
      "[('others', 222), ('pressed', 24), ('manual tools', 20), ('chemical substances', 17), ('cut', 14), ('venomous animals', 13), ('projection', 11), ('bees', 10), ('fall', 9), ('vehicles and mobile equipment', 8), ('fall prevention (same level)', 7), ('remains of choco', 7), ('pressurized systems', 7), ('fall prevention', 6), ('suspended loads', 6), ('blocking and isolation of energies', 3), ('pressurized systems / chemical substances', 3), ('power lock', 3), ('liquid metal', 3), ('machine protection', 2), ('electrical shock', 2), ('poll', 1), ('individual protection equipment', 1), ('projection/manual tools', 1), ('burn', 1), ('electrical installation', 1), ('projection/choco', 1), ('projection/burning', 1), ('plates', 1), ('confined space', 1), ('traffic', 1), ('\\r\\nnot applicable', 1), ('projection of fragments', 1)]\n"
     ]
    }
   ],
   "source": [
    "for col in df.columns:\n",
    "    if col not in ['DATE', 'DESCRIPTION', 'ID']:\n",
    "        vc = df[col].value_counts(dropna=False)\n",
    "        if len(vc) > 10:\n",
    "            vc = f'{col}\\n\\n'+ str([(index, int(count)) for index, count in zip(vc.index, vc.values)])\n",
    "        print(f\"\\n{'-'*120}\\n{vc}\")"
   ]
  },
  {
   "cell_type": "markdown",
   "metadata": {},
   "source": [
    "# Testes Ferramenta\n",
    "- Guardrails se mostraram uteis para encontrar erros\n",
    "- Desenpenho SQL aumenta com o incremento de shots\n",
    "- Precisa de mais ajustes, shots, melhorias em prompts.\n",
    "- Melhorar plots"
   ]
  },
  {
   "cell_type": "code",
   "execution_count": 19,
   "metadata": {
    "ExecuteTime": {
     "end_time": "2024-12-07T17:33:02.100476Z",
     "start_time": "2024-12-07T17:32:54.982505Z"
    }
   },
   "outputs": [],
   "source": [
    "from src.assistant import SQLite_Analyser\n",
    "import matplotlib.pyplot as plt\n",
    "\n",
    "analisador = SQLite_Analyser(\"qwen3:30b-a3b\", 'database.db')"
   ]
  },
  {
   "cell_type": "code",
   "execution_count": 20,
   "metadata": {
    "ExecuteTime": {
     "end_time": "2024-12-07T17:33:11.447461Z",
     "start_time": "2024-12-07T17:33:05.915260Z"
    }
   },
   "outputs": [
    {
     "name": "stdout",
     "output_type": "stream",
     "text": [
      "\n",
      "\n",
      "\n",
      "\n",
      "query prompt: \n",
      "\n",
      "SQL query: SELECT ACCIDENT_LEVEL, COUNT(*) AS total_events FROM events GROUP BY ACCIDENT_LEVEL;\n",
      "   ACCIDENT_LEVEL  total_events\n",
      "0               1           303\n",
      "1               2            39\n",
      "2               3            31\n",
      "3               4            28\n",
      "4               5             8\n"
     ]
    },
    {
     "data": {
      "image/png": "[encoded data removed]",
      "text/plain": [
       "<Figure size 640x480 with 1 Axes>"
      ]
     },
     "metadata": {},
     "output_type": "display_data"
    }
   ],
   "source": [
    "question = 'Quantos eventos existem em cada level de acidente?'\n",
    "analisador.apresentar(question)"
   ]
  },
  {
   "cell_type": "code",
   "execution_count": 21,
   "metadata": {},
   "outputs": [
    {
     "name": "stdout",
     "output_type": "stream",
     "text": [
      "\n",
      "\n",
      "\n",
      "\n",
      "query prompt: \n",
      "\n",
      "SQL query: SELECT ACCIDENT_LEVEL, COUNT(*) AS total_events FROM events GROUP BY ACCIDENT_LEVEL;\n",
      "   ACCIDENT_LEVEL  total_events\n",
      "0               1           303\n",
      "1               2            39\n",
      "2               3            31\n",
      "3               4            28\n",
      "4               5             8\n"
     ]
    },
    {
     "data": {
      "image/png": "[encoded data removed]",
      "text/plain": [
       "<Figure size 640x480 with 1 Axes>"
      ]
     },
     "metadata": {},
     "output_type": "display_data"
    }
   ],
   "source": [
    "question = 'Quantos eventos existem em cada level de acidente?'\n",
    "analisador.apresentar(question)"
   ]
  },
  {
   "cell_type": "markdown",
   "metadata": {},
   "source": [
    "# Exemplo texto"
   ]
  },
  {
   "cell_type": "code",
   "execution_count": 22,
   "metadata": {
    "ExecuteTime": {
     "end_time": "2024-12-07T17:33:20.723358Z",
     "start_time": "2024-12-07T17:33:13.698476Z"
    }
   },
   "outputs": [
    {
     "name": "stdout",
     "output_type": "stream",
     "text": [
      "\n",
      "\n",
      "\n",
      "\n",
      "query prompt: \n",
      "\n",
      "SQL query: SELECT COUNT(*) AS total_events FROM events;\n"
     ]
    },
    {
     "data": {
      "text/plain": [
       "'A quantidade total de eventos é 409.'"
      ]
     },
     "execution_count": 22,
     "metadata": {},
     "output_type": "execute_result"
    }
   ],
   "source": [
    "question = 'Quantos eventos existem ao todo?'\n",
    "analisador.apresentar(question)"
   ]
  },
  {
   "cell_type": "markdown",
   "metadata": {},
   "source": [
    "# Exemplo Linha"
   ]
  },
  {
   "cell_type": "code",
   "execution_count": 23,
   "metadata": {
    "ExecuteTime": {
     "end_time": "2024-12-07T17:33:28.351078Z",
     "start_time": "2024-12-07T17:33:22.874718Z"
    }
   },
   "outputs": [
    {
     "name": "stdout",
     "output_type": "stream",
     "text": [
      "\n",
      "\n",
      "\n",
      "\n",
      "query prompt: \n",
      "\n",
      "SQL query: SELECT strftime('%Y-%m', DATE) AS month, COUNT(*) AS total_events FROM events GROUP BY strftime('%Y-%m', DATE);\n",
      "      month  total_events\n",
      "0   2016-01            12\n",
      "1   2016-02            30\n",
      "2   2016-03            34\n",
      "3   2016-04            28\n",
      "4   2016-05            25\n",
      "5   2016-06            30\n",
      "6   2016-07            17\n",
      "7   2016-08            21\n",
      "8   2016-09            24\n",
      "9   2016-10            21\n",
      "10  2016-11            13\n",
      "11  2016-12            22\n",
      "12  2017-01            27\n",
      "13  2017-02            30\n",
      "14  2017-03            16\n",
      "15  2017-04            23\n",
      "16  2017-05            12\n",
      "17  2017-06            19\n",
      "18  2017-07             5\n"
     ]
    },
    {
     "data": {
      "image/png": "[encoded data removed]",
      "text/plain": [
       "<Figure size 640x480 with 1 Axes>"
      ]
     },
     "metadata": {},
     "output_type": "display_data"
    }
   ],
   "source": [
    "question = \"Qual a evolução temporal dos eventos agregados mensalmente?\"\n",
    "analisador.apresentar(question)"
   ]
  },
  {
   "cell_type": "code",
   "execution_count": 24,
   "metadata": {
    "ExecuteTime": {
     "end_time": "2024-12-07T17:33:38.072117Z",
     "start_time": "2024-12-07T17:33:31.355200Z"
    }
   },
   "outputs": [
    {
     "name": "stdout",
     "output_type": "stream",
     "text": [
      "\n",
      "\n",
      "\n",
      "\n",
      "query prompt: \n",
      "\n",
      "SQL query: SELECT strftime('%Y-%m-%d', DATE) AS date, COUNT(*) AS total_events FROM events GROUP BY date ORDER BY date;\n",
      "           date  total_events\n",
      "0    2016-01-01             1\n",
      "1    2016-01-02             1\n",
      "2    2016-01-06             1\n",
      "3    2016-01-08             1\n",
      "4    2016-01-10             1\n",
      "..          ...           ...\n",
      "281  2017-06-29             1\n",
      "282  2017-07-04             2\n",
      "283  2017-07-05             1\n",
      "284  2017-07-06             1\n",
      "285  2017-07-09             1\n",
      "\n",
      "[286 rows x 2 columns]\n"
     ]
    },
    {
     "data": {
      "image/png": "[encoded data removed]",
      "text/plain": [
       "<Figure size 640x480 with 1 Axes>"
      ]
     },
     "metadata": {},
     "output_type": "display_data"
    }
   ],
   "source": [
    "question = \"Qual a evolução temporal dos eventos agregados diariamente?\"\n",
    "analisador.apresentar(question)"
   ]
  },
  {
   "cell_type": "markdown",
   "metadata": {},
   "source": [
    "# Conferência"
   ]
  },
  {
   "cell_type": "code",
   "execution_count": 6,
   "metadata": {
    "ExecuteTime": {
     "end_time": "2024-12-07T17:33:41.630008Z",
     "start_time": "2024-12-07T17:33:41.606690Z"
    }
   },
   "outputs": [
    {
     "data": {
      "text/plain": [
       "DATE\n",
       "2017-02-08    6\n",
       "2016-06-16    5\n",
       "2017-06-11    4\n",
       "2016-05-04    4\n",
       "2016-10-03    4\n",
       "             ..\n",
       "2016-07-18    1\n",
       "2016-07-20    1\n",
       "2016-07-21    1\n",
       "2016-07-23    1\n",
       "2017-07-09    1\n",
       "Name: count, Length: 286, dtype: int64"
      ]
     },
     "execution_count": 6,
     "metadata": {},
     "output_type": "execute_result"
    }
   ],
   "source": [
    "import pandas as pd\n",
    "import sqlite3\n",
    "\n",
    "# Teste de leitura\n",
    "query = \"SELECT * FROM events\"\n",
    "engine = sqlite3.Connection('database.db')\n",
    "\n",
    "df = pd.read_sql(query, \n",
    "                 engine, \n",
    "                 dtype={ 'ID': 'int64', \n",
    "                        'COUNTRY': 'str', \n",
    "                        'PLACE': 'str', \n",
    "                        'SECTOR': 'str', \n",
    "                        'ACCIDENT_LEVEL': 'int64',\n",
    "                        'DANGEROUSNESS': 'int64', \n",
    "                        'CRITICAL_RISK': 'str', \n",
    "                        'DESCRIPTION': 'str' },\n",
    "                 parse_dates=['DATE'])\n",
    "\n",
    "df['DATE'].value_counts()"
   ]
  },
  {
   "cell_type": "code",
   "execution_count": 7,
   "metadata": {
    "ExecuteTime": {
     "end_time": "2024-12-07T17:33:43.133689Z",
     "start_time": "2024-12-07T17:33:43.119358Z"
    }
   },
   "outputs": [
    {
     "data": {
      "text/plain": [
       "MES_ANO\n",
       "3_2016     34\n",
       "6_2016     30\n",
       "2_2016     30\n",
       "2_2017     30\n",
       "4_2016     28\n",
       "1_2017     27\n",
       "5_2016     25\n",
       "9_2016     24\n",
       "4_2017     23\n",
       "12_2016    22\n",
       "10_2016    21\n",
       "8_2016     21\n",
       "6_2017     19\n",
       "7_2016     17\n",
       "3_2017     16\n",
       "11_2016    13\n",
       "1_2016     12\n",
       "5_2017     12\n",
       "7_2017      5\n",
       "Name: count, dtype: int64"
      ]
     },
     "execution_count": 7,
     "metadata": {},
     "output_type": "execute_result"
    }
   ],
   "source": [
    "df['MES_ANO'] = df['DATE'].dt.month.astype(str) + '_' + df['DATE'].dt.year.astype(str)\n",
    "df['MES_ANO'].value_counts()"
   ]
  },
  {
   "cell_type": "code",
   "execution_count": null,
   "metadata": {},
   "outputs": [],
   "source": []
  }
 ],
 "metadata": {
  "kernelspec": {
   "display_name": "venv",
   "language": "python",
   "name": "python3"
  },
  "language_info": {
   "codemirror_mode": {
    "name": "ipython",
    "version": 3
   },
   "file_extension": ".py",
   "mimetype": "text/x-python",
   "name": "python",
   "nbconvert_exporter": "python",
   "pygments_lexer": "ipython3",
   "version": "3.11.12"
  },
  "varInspector": {
   "cols": {
    "lenName": 16,
    "lenType": 16,
    "lenVar": 40
   },
   "kernels_config": {
    "python": {
     "delete_cmd_postfix": "",
     "delete_cmd_prefix": "del ",
     "library": "var_list.py",
     "varRefreshCmd": "print(var_dic_list())"
    },
    "r": {
     "delete_cmd_postfix": ") ",
     "delete_cmd_prefix": "rm(",
     "library": "var_list.r",
     "varRefreshCmd": "cat(var_dic_list()) "
    }
   },
   "types_to_exclude": [
    "module",
    "function",
    "builtin_function_or_method",
    "instance",
    "_Feature"
   ],
   "window_display": false
  }
 },
 "nbformat": 4,
 "nbformat_minor": 4
}
